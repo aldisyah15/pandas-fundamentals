{
 "cells": [
  {
   "cell_type": "code",
   "execution_count": 143,
   "id": "44689d82",
   "metadata": {},
   "outputs": [],
   "source": [
    "import pandas as pd\n",
    "\n",
    "df = pd.read_csv(\"Ecommers_data_updated.csv\", sep=\";\")"
   ]
  },
  {
   "cell_type": "markdown",
   "id": "fd86d2a4",
   "metadata": {},
   "source": [
    "## Series"
   ]
  },
  {
   "cell_type": "markdown",
   "id": "4a113667",
   "metadata": {},
   "source": [
    "Series adalah struktur yang mirip seperti array"
   ]
  },
  {
   "cell_type": "code",
   "execution_count": 144,
   "id": "d157e16f",
   "metadata": {},
   "outputs": [
    {
     "name": "stdout",
     "output_type": "stream",
     "text": [
      "0     80\n",
      "1     90\n",
      "2    100\n",
      "3     40\n",
      "Name: Nilai Matematika, dtype: int64\n"
     ]
    }
   ],
   "source": [
    "Nilai_ujian = pd.Series([80, 90, 100, 40], name=\"Nilai Matematika\")\n",
    "print(Nilai_ujian)"
   ]
  },
  {
   "cell_type": "markdown",
   "id": "2b8c4295",
   "metadata": {},
   "source": [
    "## Data inpections method"
   ]
  },
  {
   "cell_type": "markdown",
   "id": "c2b94792",
   "metadata": {},
   "source": [
    "* to see entire dataframe from the first index"
   ]
  },
  {
   "cell_type": "code",
   "execution_count": 145,
   "id": "fabc87cf",
   "metadata": {},
   "outputs": [
    {
     "data": {
      "text/html": [
       "<div>\n",
       "<style scoped>\n",
       "    .dataframe tbody tr th:only-of-type {\n",
       "        vertical-align: middle;\n",
       "    }\n",
       "\n",
       "    .dataframe tbody tr th {\n",
       "        vertical-align: top;\n",
       "    }\n",
       "\n",
       "    .dataframe thead th {\n",
       "        text-align: right;\n",
       "    }\n",
       "</style>\n",
       "<table border=\"1\" class=\"dataframe\">\n",
       "  <thead>\n",
       "    <tr style=\"text-align: right;\">\n",
       "      <th></th>\n",
       "      <th>Nama_penerima</th>\n",
       "      <th>No_resi</th>\n",
       "      <th>Nama_ekspedisi</th>\n",
       "      <th>Tanggal_order</th>\n",
       "      <th>Tanggal_pickup</th>\n",
       "      <th>Tanggal_delivered</th>\n",
       "      <th>Status</th>\n",
       "      <th>Nama_toko</th>\n",
       "    </tr>\n",
       "  </thead>\n",
       "  <tbody>\n",
       "    <tr>\n",
       "      <th>0</th>\n",
       "      <td>Taufik Hidayat</td>\n",
       "      <td>10000000</td>\n",
       "      <td>POS</td>\n",
       "      <td>23/01/2023</td>\n",
       "      <td>24/01/2023</td>\n",
       "      <td>26/01/2023</td>\n",
       "      <td>delivered</td>\n",
       "      <td>Nusantara Mart</td>\n",
       "    </tr>\n",
       "    <tr>\n",
       "      <th>1</th>\n",
       "      <td>Siti Nurhaliza</td>\n",
       "      <td>10000001</td>\n",
       "      <td>JNE</td>\n",
       "      <td>17/12/2023</td>\n",
       "      <td>18/12/2023</td>\n",
       "      <td>22/12/2023</td>\n",
       "      <td>delivered</td>\n",
       "      <td>Cahaya Elektronik</td>\n",
       "    </tr>\n",
       "    <tr>\n",
       "      <th>2</th>\n",
       "      <td>Putri Amelia</td>\n",
       "      <td>10000002</td>\n",
       "      <td>JNT</td>\n",
       "      <td>10/09/2023</td>\n",
       "      <td>11/09/2023</td>\n",
       "      <td>12/09/2023</td>\n",
       "      <td>delivered</td>\n",
       "      <td>Karya Mandiri</td>\n",
       "    </tr>\n",
       "    <tr>\n",
       "      <th>3</th>\n",
       "      <td>Siti Nurhaliza</td>\n",
       "      <td>10000003</td>\n",
       "      <td>Sicepat</td>\n",
       "      <td>18/04/2023</td>\n",
       "      <td>21/04/2023</td>\n",
       "      <td>25/04/2023</td>\n",
       "      <td>delivered</td>\n",
       "      <td>Bintang Terang Shop</td>\n",
       "    </tr>\n",
       "    <tr>\n",
       "      <th>4</th>\n",
       "      <td>Novita Sari</td>\n",
       "      <td>10000004</td>\n",
       "      <td>JNT</td>\n",
       "      <td>22/04/2023</td>\n",
       "      <td>25/04/2023</td>\n",
       "      <td>26/04/2023</td>\n",
       "      <td>delivered</td>\n",
       "      <td>Sinar Harapan</td>\n",
       "    </tr>\n",
       "  </tbody>\n",
       "</table>\n",
       "</div>"
      ],
      "text/plain": [
       "    Nama_penerima   No_resi Nama_ekspedisi Tanggal_order Tanggal_pickup  \\\n",
       "0  Taufik Hidayat  10000000            POS    23/01/2023     24/01/2023   \n",
       "1  Siti Nurhaliza  10000001            JNE    17/12/2023     18/12/2023   \n",
       "2    Putri Amelia  10000002            JNT    10/09/2023     11/09/2023   \n",
       "3  Siti Nurhaliza  10000003        Sicepat    18/04/2023     21/04/2023   \n",
       "4     Novita Sari  10000004            JNT    22/04/2023     25/04/2023   \n",
       "\n",
       "  Tanggal_delivered     Status            Nama_toko  \n",
       "0        26/01/2023  delivered       Nusantara Mart  \n",
       "1        22/12/2023  delivered    Cahaya Elektronik  \n",
       "2        12/09/2023  delivered        Karya Mandiri  \n",
       "3        25/04/2023  delivered  Bintang Terang Shop  \n",
       "4        26/04/2023  delivered        Sinar Harapan  "
      ]
     },
     "execution_count": 145,
     "metadata": {},
     "output_type": "execute_result"
    }
   ],
   "source": [
    "df.head()"
   ]
  },
  {
   "cell_type": "markdown",
   "id": "0752bdaf",
   "metadata": {},
   "source": [
    "* to see all column names from the Dataframe"
   ]
  },
  {
   "cell_type": "code",
   "execution_count": 146,
   "id": "97eafce1",
   "metadata": {},
   "outputs": [
    {
     "data": {
      "text/plain": [
       "Index(['Nama_penerima', 'No_resi', 'Nama_ekspedisi', 'Tanggal_order',\n",
       "       'Tanggal_pickup', 'Tanggal_delivered', 'Status', 'Nama_toko'],\n",
       "      dtype='object')"
      ]
     },
     "execution_count": 146,
     "metadata": {},
     "output_type": "execute_result"
    }
   ],
   "source": [
    "df.columns"
   ]
  },
  {
   "cell_type": "markdown",
   "id": "9ee263a9",
   "metadata": {},
   "source": [
    "* to see describe from the dataframe"
   ]
  },
  {
   "cell_type": "code",
   "execution_count": 147,
   "id": "5dd99512",
   "metadata": {},
   "outputs": [
    {
     "data": {
      "text/html": [
       "<div>\n",
       "<style scoped>\n",
       "    .dataframe tbody tr th:only-of-type {\n",
       "        vertical-align: middle;\n",
       "    }\n",
       "\n",
       "    .dataframe tbody tr th {\n",
       "        vertical-align: top;\n",
       "    }\n",
       "\n",
       "    .dataframe thead th {\n",
       "        text-align: right;\n",
       "    }\n",
       "</style>\n",
       "<table border=\"1\" class=\"dataframe\">\n",
       "  <thead>\n",
       "    <tr style=\"text-align: right;\">\n",
       "      <th></th>\n",
       "      <th>No_resi</th>\n",
       "    </tr>\n",
       "  </thead>\n",
       "  <tbody>\n",
       "    <tr>\n",
       "      <th>count</th>\n",
       "      <td>5.000000e+02</td>\n",
       "    </tr>\n",
       "    <tr>\n",
       "      <th>mean</th>\n",
       "      <td>1.000025e+07</td>\n",
       "    </tr>\n",
       "    <tr>\n",
       "      <th>std</th>\n",
       "      <td>1.444818e+02</td>\n",
       "    </tr>\n",
       "    <tr>\n",
       "      <th>min</th>\n",
       "      <td>1.000000e+07</td>\n",
       "    </tr>\n",
       "    <tr>\n",
       "      <th>25%</th>\n",
       "      <td>1.000012e+07</td>\n",
       "    </tr>\n",
       "    <tr>\n",
       "      <th>50%</th>\n",
       "      <td>1.000025e+07</td>\n",
       "    </tr>\n",
       "    <tr>\n",
       "      <th>75%</th>\n",
       "      <td>1.000037e+07</td>\n",
       "    </tr>\n",
       "    <tr>\n",
       "      <th>max</th>\n",
       "      <td>1.000050e+07</td>\n",
       "    </tr>\n",
       "  </tbody>\n",
       "</table>\n",
       "</div>"
      ],
      "text/plain": [
       "            No_resi\n",
       "count  5.000000e+02\n",
       "mean   1.000025e+07\n",
       "std    1.444818e+02\n",
       "min    1.000000e+07\n",
       "25%    1.000012e+07\n",
       "50%    1.000025e+07\n",
       "75%    1.000037e+07\n",
       "max    1.000050e+07"
      ]
     },
     "execution_count": 147,
     "metadata": {},
     "output_type": "execute_result"
    }
   ],
   "source": [
    "df.describe()"
   ]
  },
  {
   "cell_type": "code",
   "execution_count": 148,
   "id": "c64abcdf",
   "metadata": {},
   "outputs": [
    {
     "data": {
      "text/html": [
       "<div>\n",
       "<style scoped>\n",
       "    .dataframe tbody tr th:only-of-type {\n",
       "        vertical-align: middle;\n",
       "    }\n",
       "\n",
       "    .dataframe tbody tr th {\n",
       "        vertical-align: top;\n",
       "    }\n",
       "\n",
       "    .dataframe thead th {\n",
       "        text-align: right;\n",
       "    }\n",
       "</style>\n",
       "<table border=\"1\" class=\"dataframe\">\n",
       "  <thead>\n",
       "    <tr style=\"text-align: right;\">\n",
       "      <th></th>\n",
       "      <th>Nama_penerima</th>\n",
       "      <th>No_resi</th>\n",
       "      <th>Nama_ekspedisi</th>\n",
       "      <th>Tanggal_order</th>\n",
       "      <th>Tanggal_pickup</th>\n",
       "      <th>Tanggal_delivered</th>\n",
       "      <th>Status</th>\n",
       "      <th>Nama_toko</th>\n",
       "    </tr>\n",
       "  </thead>\n",
       "  <tbody>\n",
       "    <tr>\n",
       "      <th>497</th>\n",
       "      <td>Kartika Sari</td>\n",
       "      <td>10000497</td>\n",
       "      <td>POS</td>\n",
       "      <td>23/06/2023</td>\n",
       "      <td>24/06/2023</td>\n",
       "      <td>25/06/2023</td>\n",
       "      <td>delivered</td>\n",
       "      <td>Garuda Perkasa</td>\n",
       "    </tr>\n",
       "    <tr>\n",
       "      <th>498</th>\n",
       "      <td>Gunawan</td>\n",
       "      <td>10000498</td>\n",
       "      <td>JNE</td>\n",
       "      <td>17/12/2023</td>\n",
       "      <td>18/12/2023</td>\n",
       "      <td>25/12/2023</td>\n",
       "      <td>delivered</td>\n",
       "      <td>Sentosa Cell</td>\n",
       "    </tr>\n",
       "    <tr>\n",
       "      <th>499</th>\n",
       "      <td>Cahya Purnama</td>\n",
       "      <td>10000499</td>\n",
       "      <td>JNE</td>\n",
       "      <td>18/09/2023</td>\n",
       "      <td>21/09/2023</td>\n",
       "      <td>28/09/2023</td>\n",
       "      <td>delivered</td>\n",
       "      <td>Duta Niaga</td>\n",
       "    </tr>\n",
       "  </tbody>\n",
       "</table>\n",
       "</div>"
      ],
      "text/plain": [
       "     Nama_penerima   No_resi Nama_ekspedisi Tanggal_order Tanggal_pickup  \\\n",
       "497   Kartika Sari  10000497            POS    23/06/2023     24/06/2023   \n",
       "498        Gunawan  10000498            JNE    17/12/2023     18/12/2023   \n",
       "499  Cahya Purnama  10000499            JNE    18/09/2023     21/09/2023   \n",
       "\n",
       "    Tanggal_delivered     Status       Nama_toko  \n",
       "497        25/06/2023  delivered  Garuda Perkasa  \n",
       "498        25/12/2023  delivered    Sentosa Cell  \n",
       "499        28/09/2023  delivered      Duta Niaga  "
      ]
     },
     "execution_count": 148,
     "metadata": {},
     "output_type": "execute_result"
    }
   ],
   "source": [
    "df.tail(3)"
   ]
  },
  {
   "cell_type": "code",
   "execution_count": 149,
   "id": "654fd47c",
   "metadata": {},
   "outputs": [
    {
     "data": {
      "text/plain": [
       "(500, 8)"
      ]
     },
     "execution_count": 149,
     "metadata": {},
     "output_type": "execute_result"
    }
   ],
   "source": [
    "df.shape"
   ]
  },
  {
   "cell_type": "code",
   "execution_count": 150,
   "id": "c55392f0",
   "metadata": {},
   "outputs": [
    {
     "name": "stdout",
     "output_type": "stream",
     "text": [
      "<class 'pandas.core.frame.DataFrame'>\n",
      "RangeIndex: 500 entries, 0 to 499\n",
      "Data columns (total 8 columns):\n",
      " #   Column             Non-Null Count  Dtype \n",
      "---  ------             --------------  ----- \n",
      " 0   Nama_penerima      500 non-null    object\n",
      " 1   No_resi            500 non-null    int64 \n",
      " 2   Nama_ekspedisi     500 non-null    object\n",
      " 3   Tanggal_order      500 non-null    object\n",
      " 4   Tanggal_pickup     500 non-null    object\n",
      " 5   Tanggal_delivered  423 non-null    object\n",
      " 6   Status             500 non-null    object\n",
      " 7   Nama_toko          500 non-null    object\n",
      "dtypes: int64(1), object(7)\n",
      "memory usage: 31.4+ KB\n"
     ]
    }
   ],
   "source": [
    "df.info()"
   ]
  },
  {
   "cell_type": "markdown",
   "id": "8e2f800b",
   "metadata": {},
   "source": [
    "## Selection & Indexing Methods"
   ]
  },
  {
   "cell_type": "markdown",
   "id": "89474df0",
   "metadata": {},
   "source": [
    "* select by label or index"
   ]
  },
  {
   "cell_type": "markdown",
   "id": "ca6ef9c0",
   "metadata": {},
   "source": [
    ".loc"
   ]
  },
  {
   "cell_type": "code",
   "execution_count": 151,
   "id": "9351f063",
   "metadata": {},
   "outputs": [
    {
     "data": {
      "text/html": [
       "<div>\n",
       "<style scoped>\n",
       "    .dataframe tbody tr th:only-of-type {\n",
       "        vertical-align: middle;\n",
       "    }\n",
       "\n",
       "    .dataframe tbody tr th {\n",
       "        vertical-align: top;\n",
       "    }\n",
       "\n",
       "    .dataframe thead th {\n",
       "        text-align: right;\n",
       "    }\n",
       "</style>\n",
       "<table border=\"1\" class=\"dataframe\">\n",
       "  <thead>\n",
       "    <tr style=\"text-align: right;\">\n",
       "      <th></th>\n",
       "      <th>Nama_penerima</th>\n",
       "      <th>No_resi</th>\n",
       "      <th>Nama_ekspedisi</th>\n",
       "      <th>Tanggal_order</th>\n",
       "      <th>Tanggal_pickup</th>\n",
       "      <th>Tanggal_delivered</th>\n",
       "      <th>Status</th>\n",
       "      <th>Nama_toko</th>\n",
       "    </tr>\n",
       "  </thead>\n",
       "  <tbody>\n",
       "    <tr>\n",
       "      <th>2</th>\n",
       "      <td>Putri Amelia</td>\n",
       "      <td>10000002</td>\n",
       "      <td>JNT</td>\n",
       "      <td>10/09/2023</td>\n",
       "      <td>11/09/2023</td>\n",
       "      <td>12/09/2023</td>\n",
       "      <td>delivered</td>\n",
       "      <td>Karya Mandiri</td>\n",
       "    </tr>\n",
       "    <tr>\n",
       "      <th>10</th>\n",
       "      <td>Indra Kusuma</td>\n",
       "      <td>10000010</td>\n",
       "      <td>Sicepat</td>\n",
       "      <td>26/05/2023</td>\n",
       "      <td>28/05/2023</td>\n",
       "      <td>04/06/2023</td>\n",
       "      <td>delivered</td>\n",
       "      <td>Karya Mandiri</td>\n",
       "    </tr>\n",
       "    <tr>\n",
       "      <th>...</th>\n",
       "      <td>...</td>\n",
       "      <td>...</td>\n",
       "      <td>...</td>\n",
       "      <td>...</td>\n",
       "      <td>...</td>\n",
       "      <td>...</td>\n",
       "      <td>...</td>\n",
       "      <td>...</td>\n",
       "    </tr>\n",
       "    <tr>\n",
       "      <th>471</th>\n",
       "      <td>Gunawan</td>\n",
       "      <td>10000471</td>\n",
       "      <td>JNT</td>\n",
       "      <td>18/05/2023</td>\n",
       "      <td>19/05/2023</td>\n",
       "      <td>24/05/2023</td>\n",
       "      <td>delivered</td>\n",
       "      <td>Karya Mandiri</td>\n",
       "    </tr>\n",
       "    <tr>\n",
       "      <th>484</th>\n",
       "      <td>Joko Susilo</td>\n",
       "      <td>10000484</td>\n",
       "      <td>Sicepat</td>\n",
       "      <td>25/11/2023</td>\n",
       "      <td>27/11/2023</td>\n",
       "      <td>NaN</td>\n",
       "      <td>return</td>\n",
       "      <td>Karya Mandiri</td>\n",
       "    </tr>\n",
       "  </tbody>\n",
       "</table>\n",
       "<p>43 rows × 8 columns</p>\n",
       "</div>"
      ],
      "text/plain": [
       "    Nama_penerima   No_resi Nama_ekspedisi Tanggal_order Tanggal_pickup  \\\n",
       "2    Putri Amelia  10000002            JNT    10/09/2023     11/09/2023   \n",
       "10   Indra Kusuma  10000010        Sicepat    26/05/2023     28/05/2023   \n",
       "..            ...       ...            ...           ...            ...   \n",
       "471       Gunawan  10000471            JNT    18/05/2023     19/05/2023   \n",
       "484   Joko Susilo  10000484        Sicepat    25/11/2023     27/11/2023   \n",
       "\n",
       "    Tanggal_delivered     Status      Nama_toko  \n",
       "2          12/09/2023  delivered  Karya Mandiri  \n",
       "10         04/06/2023  delivered  Karya Mandiri  \n",
       "..                ...        ...            ...  \n",
       "471        24/05/2023  delivered  Karya Mandiri  \n",
       "484               NaN     return  Karya Mandiri  \n",
       "\n",
       "[43 rows x 8 columns]"
      ]
     },
     "execution_count": 151,
     "metadata": {},
     "output_type": "execute_result"
    }
   ],
   "source": [
    "pd.set_option(\"display.max_rows\", 5)\n",
    "\n",
    "# Take the row where the store name is \"Karya Mandiri\"\n",
    "df.loc[df[\"Nama_toko\"] == \"Karya Mandiri\"]"
   ]
  },
  {
   "cell_type": "code",
   "execution_count": 152,
   "id": "788ec562",
   "metadata": {},
   "outputs": [
    {
     "data": {
      "text/plain": [
       "0      10000000\n",
       "1      10000001\n",
       "2      10000002\n",
       "3      10000003\n",
       "4      10000004\n",
       "         ...   \n",
       "495    10000495\n",
       "496    10000496\n",
       "497    10000497\n",
       "498    10000498\n",
       "499    10000499\n",
       "Name: No_resi, Length: 500, dtype: int64"
      ]
     },
     "execution_count": 152,
     "metadata": {},
     "output_type": "execute_result"
    }
   ],
   "source": [
    "pd.set_option(\"display.max_rows\", 10)\n",
    "df[\"No_resi\"]"
   ]
  },
  {
   "cell_type": "markdown",
   "id": "6fcf834d",
   "metadata": {},
   "source": [
    "## Data cleaning and transformation method"
   ]
  },
  {
   "cell_type": "markdown",
   "id": "017be0ab",
   "metadata": {},
   "source": [
    "* .drop()"
   ]
  },
  {
   "cell_type": "code",
   "execution_count": 153,
   "id": "1414e18e",
   "metadata": {},
   "outputs": [
    {
     "data": {
      "text/html": [
       "<div>\n",
       "<style scoped>\n",
       "    .dataframe tbody tr th:only-of-type {\n",
       "        vertical-align: middle;\n",
       "    }\n",
       "\n",
       "    .dataframe tbody tr th {\n",
       "        vertical-align: top;\n",
       "    }\n",
       "\n",
       "    .dataframe thead th {\n",
       "        text-align: right;\n",
       "    }\n",
       "</style>\n",
       "<table border=\"1\" class=\"dataframe\">\n",
       "  <thead>\n",
       "    <tr style=\"text-align: right;\">\n",
       "      <th></th>\n",
       "      <th>Nama_penerima</th>\n",
       "      <th>No_resi</th>\n",
       "      <th>Nama_ekspedisi</th>\n",
       "      <th>Tanggal_order</th>\n",
       "      <th>Tanggal_pickup</th>\n",
       "      <th>Tanggal_delivered</th>\n",
       "      <th>Status</th>\n",
       "      <th>Nama_toko</th>\n",
       "    </tr>\n",
       "  </thead>\n",
       "  <tbody>\n",
       "    <tr>\n",
       "      <th>0</th>\n",
       "      <td>Taufik Hidayat</td>\n",
       "      <td>10000000</td>\n",
       "      <td>POS</td>\n",
       "      <td>23/01/2023</td>\n",
       "      <td>24/01/2023</td>\n",
       "      <td>26/01/2023</td>\n",
       "      <td>delivered</td>\n",
       "      <td>Nusantara Mart</td>\n",
       "    </tr>\n",
       "    <tr>\n",
       "      <th>1</th>\n",
       "      <td>Siti Nurhaliza</td>\n",
       "      <td>10000001</td>\n",
       "      <td>JNE</td>\n",
       "      <td>17/12/2023</td>\n",
       "      <td>18/12/2023</td>\n",
       "      <td>22/12/2023</td>\n",
       "      <td>delivered</td>\n",
       "      <td>Cahaya Elektronik</td>\n",
       "    </tr>\n",
       "    <tr>\n",
       "      <th>2</th>\n",
       "      <td>Putri Amelia</td>\n",
       "      <td>10000002</td>\n",
       "      <td>JNT</td>\n",
       "      <td>10/09/2023</td>\n",
       "      <td>11/09/2023</td>\n",
       "      <td>12/09/2023</td>\n",
       "      <td>delivered</td>\n",
       "      <td>Karya Mandiri</td>\n",
       "    </tr>\n",
       "    <tr>\n",
       "      <th>3</th>\n",
       "      <td>Siti Nurhaliza</td>\n",
       "      <td>10000003</td>\n",
       "      <td>Sicepat</td>\n",
       "      <td>18/04/2023</td>\n",
       "      <td>21/04/2023</td>\n",
       "      <td>25/04/2023</td>\n",
       "      <td>delivered</td>\n",
       "      <td>Bintang Terang Shop</td>\n",
       "    </tr>\n",
       "    <tr>\n",
       "      <th>4</th>\n",
       "      <td>Novita Sari</td>\n",
       "      <td>10000004</td>\n",
       "      <td>JNT</td>\n",
       "      <td>22/04/2023</td>\n",
       "      <td>25/04/2023</td>\n",
       "      <td>26/04/2023</td>\n",
       "      <td>delivered</td>\n",
       "      <td>Sinar Harapan</td>\n",
       "    </tr>\n",
       "  </tbody>\n",
       "</table>\n",
       "</div>"
      ],
      "text/plain": [
       "    Nama_penerima   No_resi Nama_ekspedisi Tanggal_order Tanggal_pickup  \\\n",
       "0  Taufik Hidayat  10000000            POS    23/01/2023     24/01/2023   \n",
       "1  Siti Nurhaliza  10000001            JNE    17/12/2023     18/12/2023   \n",
       "2    Putri Amelia  10000002            JNT    10/09/2023     11/09/2023   \n",
       "3  Siti Nurhaliza  10000003        Sicepat    18/04/2023     21/04/2023   \n",
       "4     Novita Sari  10000004            JNT    22/04/2023     25/04/2023   \n",
       "\n",
       "  Tanggal_delivered     Status            Nama_toko  \n",
       "0        26/01/2023  delivered       Nusantara Mart  \n",
       "1        22/12/2023  delivered    Cahaya Elektronik  \n",
       "2        12/09/2023  delivered        Karya Mandiri  \n",
       "3        25/04/2023  delivered  Bintang Terang Shop  \n",
       "4        26/04/2023  delivered        Sinar Harapan  "
      ]
     },
     "execution_count": 153,
     "metadata": {},
     "output_type": "execute_result"
    }
   ],
   "source": [
    "# delete by condition\n",
    "\n",
    "# df.drop(df.loc[df[\"Nama_toko\"] == \"Karya Mandiri\"].index, inplace=True)\n",
    "\n",
    "# drop by column name\n",
    "\n",
    "# df.drop([\"Status\", \"Tanggal_order\"], axis=1, inplace=True)\n",
    "df.head()"
   ]
  },
  {
   "cell_type": "markdown",
   "id": "fe4217c4",
   "metadata": {},
   "source": [
    "* .rename()"
   ]
  },
  {
   "cell_type": "code",
   "execution_count": 154,
   "id": "68b95ac9",
   "metadata": {},
   "outputs": [
    {
     "data": {
      "text/html": [
       "<div>\n",
       "<style scoped>\n",
       "    .dataframe tbody tr th:only-of-type {\n",
       "        vertical-align: middle;\n",
       "    }\n",
       "\n",
       "    .dataframe tbody tr th {\n",
       "        vertical-align: top;\n",
       "    }\n",
       "\n",
       "    .dataframe thead th {\n",
       "        text-align: right;\n",
       "    }\n",
       "</style>\n",
       "<table border=\"1\" class=\"dataframe\">\n",
       "  <thead>\n",
       "    <tr style=\"text-align: right;\">\n",
       "      <th></th>\n",
       "      <th>Nama_penerima</th>\n",
       "      <th>Resi</th>\n",
       "      <th>Nama_ekspedisi</th>\n",
       "      <th>Tanggal_order</th>\n",
       "      <th>Tanggal_pickup</th>\n",
       "      <th>Tanggal_delivered</th>\n",
       "      <th>Status</th>\n",
       "      <th>Nama_toko</th>\n",
       "    </tr>\n",
       "  </thead>\n",
       "  <tbody>\n",
       "    <tr>\n",
       "      <th>0</th>\n",
       "      <td>Taufik Hidayat</td>\n",
       "      <td>10000000</td>\n",
       "      <td>POS</td>\n",
       "      <td>23/01/2023</td>\n",
       "      <td>24/01/2023</td>\n",
       "      <td>26/01/2023</td>\n",
       "      <td>delivered</td>\n",
       "      <td>Nusantara Mart</td>\n",
       "    </tr>\n",
       "    <tr>\n",
       "      <th>1</th>\n",
       "      <td>Siti Nurhaliza</td>\n",
       "      <td>10000001</td>\n",
       "      <td>JNE</td>\n",
       "      <td>17/12/2023</td>\n",
       "      <td>18/12/2023</td>\n",
       "      <td>22/12/2023</td>\n",
       "      <td>delivered</td>\n",
       "      <td>Cahaya Elektronik</td>\n",
       "    </tr>\n",
       "    <tr>\n",
       "      <th>2</th>\n",
       "      <td>Putri Amelia</td>\n",
       "      <td>10000002</td>\n",
       "      <td>JNT</td>\n",
       "      <td>10/09/2023</td>\n",
       "      <td>11/09/2023</td>\n",
       "      <td>12/09/2023</td>\n",
       "      <td>delivered</td>\n",
       "      <td>Karya Mandiri</td>\n",
       "    </tr>\n",
       "    <tr>\n",
       "      <th>3</th>\n",
       "      <td>Siti Nurhaliza</td>\n",
       "      <td>10000003</td>\n",
       "      <td>Sicepat</td>\n",
       "      <td>18/04/2023</td>\n",
       "      <td>21/04/2023</td>\n",
       "      <td>25/04/2023</td>\n",
       "      <td>delivered</td>\n",
       "      <td>Bintang Terang Shop</td>\n",
       "    </tr>\n",
       "    <tr>\n",
       "      <th>4</th>\n",
       "      <td>Novita Sari</td>\n",
       "      <td>10000004</td>\n",
       "      <td>JNT</td>\n",
       "      <td>22/04/2023</td>\n",
       "      <td>25/04/2023</td>\n",
       "      <td>26/04/2023</td>\n",
       "      <td>delivered</td>\n",
       "      <td>Sinar Harapan</td>\n",
       "    </tr>\n",
       "  </tbody>\n",
       "</table>\n",
       "</div>"
      ],
      "text/plain": [
       "    Nama_penerima      Resi Nama_ekspedisi Tanggal_order Tanggal_pickup  \\\n",
       "0  Taufik Hidayat  10000000            POS    23/01/2023     24/01/2023   \n",
       "1  Siti Nurhaliza  10000001            JNE    17/12/2023     18/12/2023   \n",
       "2    Putri Amelia  10000002            JNT    10/09/2023     11/09/2023   \n",
       "3  Siti Nurhaliza  10000003        Sicepat    18/04/2023     21/04/2023   \n",
       "4     Novita Sari  10000004            JNT    22/04/2023     25/04/2023   \n",
       "\n",
       "  Tanggal_delivered     Status            Nama_toko  \n",
       "0        26/01/2023  delivered       Nusantara Mart  \n",
       "1        22/12/2023  delivered    Cahaya Elektronik  \n",
       "2        12/09/2023  delivered        Karya Mandiri  \n",
       "3        25/04/2023  delivered  Bintang Terang Shop  \n",
       "4        26/04/2023  delivered        Sinar Harapan  "
      ]
     },
     "execution_count": 154,
     "metadata": {},
     "output_type": "execute_result"
    }
   ],
   "source": [
    "df.rename(columns={\"No_resi\": \"Resi\"}, inplace=True)\n",
    "df.head()"
   ]
  },
  {
   "cell_type": "code",
   "execution_count": 155,
   "id": "8eb71b1e",
   "metadata": {},
   "outputs": [
    {
     "data": {
      "text/plain": [
       "Nama_penerima               object\n",
       "Resi                         int64\n",
       "Nama_ekspedisi              object\n",
       "Tanggal_order               object\n",
       "Tanggal_pickup       datetime64[s]\n",
       "Tanggal_delivered           object\n",
       "Status                      object\n",
       "Nama_toko                   object\n",
       "dtype: object"
      ]
     },
     "execution_count": 155,
     "metadata": {},
     "output_type": "execute_result"
    }
   ],
   "source": [
    "df[\"Tanggal_pickup\"] = df[\"Tanggal_pickup\"].astype(\"datetime64[s]\")\n",
    "df.dtypes"
   ]
  },
  {
   "cell_type": "markdown",
   "id": "7d55fe51",
   "metadata": {},
   "source": [
    "* .fillna"
   ]
  },
  {
   "cell_type": "code",
   "execution_count": 156,
   "id": "3b963f48",
   "metadata": {},
   "outputs": [],
   "source": [
    "# fill missing value\n",
    "df_fill = df.fillna({\"No_resi\": 0})"
   ]
  },
  {
   "cell_type": "markdown",
   "id": "61aceee9",
   "metadata": {},
   "source": [
    "* .dropna"
   ]
  },
  {
   "cell_type": "code",
   "execution_count": 157,
   "id": "e6de5d0f",
   "metadata": {},
   "outputs": [],
   "source": [
    "# drop missing value\n",
    "df_drop = df.dropna()"
   ]
  },
  {
   "cell_type": "code",
   "execution_count": 158,
   "id": "b7faf9a2",
   "metadata": {},
   "outputs": [],
   "source": [
    "# replace value\n",
    "\n",
    "# df_replace = df.replace({\"Nama_ekspedisi\": {\"JNT\": \"J&T\"}})"
   ]
  },
  {
   "cell_type": "markdown",
   "id": "8ed7baf3",
   "metadata": {},
   "source": [
    "* .apply()"
   ]
  },
  {
   "cell_type": "code",
   "execution_count": 159,
   "id": "a8d6f848",
   "metadata": {},
   "outputs": [
    {
     "name": "stdout",
     "output_type": "stream",
     "text": [
      "   Ongkos_kirim  Fee_shipping\n",
      "0         10000         300.0\n",
      "1         15000         450.0\n",
      "2        100000        3000.0\n"
     ]
    }
   ],
   "source": [
    "dff = pd.DataFrame({\n",
    "    \"Nama\": [\"Aldi\", \"Budi\", \"Citra\"],\n",
    "    \"Umur\": [20, 25, 30]\n",
    "})\n",
    "\n",
    "# Tambahkan 5 ke setiap nilai di kolom Umur\n",
    "dff[\"Umur_plus5\"] = dff[\"Umur\"].apply(lambda x: x + 5)\n",
    "\n",
    "dfff = pd.DataFrame({\n",
    "    \"Ongkos_kirim\": [10000, 15000, 100000],\n",
    "})\n",
    "\n",
    "dfff[\"Fee_shipping\"] = dfff[\"Ongkos_kirim\"] * 0.03\n",
    "\n",
    "print(dfff)"
   ]
  },
  {
   "cell_type": "markdown",
   "id": "b3e8d6e9",
   "metadata": {},
   "source": [
    "## Aggregration and grupping method"
   ]
  },
  {
   "cell_type": "code",
   "execution_count": 160,
   "id": "067e3015",
   "metadata": {},
   "outputs": [
    {
     "data": {
      "text/html": [
       "<div>\n",
       "<style scoped>\n",
       "    .dataframe tbody tr th:only-of-type {\n",
       "        vertical-align: middle;\n",
       "    }\n",
       "\n",
       "    .dataframe tbody tr th {\n",
       "        vertical-align: top;\n",
       "    }\n",
       "\n",
       "    .dataframe thead th {\n",
       "        text-align: right;\n",
       "    }\n",
       "</style>\n",
       "<table border=\"1\" class=\"dataframe\">\n",
       "  <thead>\n",
       "    <tr style=\"text-align: right;\">\n",
       "      <th></th>\n",
       "      <th>Nama_penerima</th>\n",
       "      <th>Resi</th>\n",
       "      <th>Nama_ekspedisi</th>\n",
       "      <th>Tanggal_order</th>\n",
       "      <th>Tanggal_pickup</th>\n",
       "      <th>Tanggal_delivered</th>\n",
       "      <th>Status</th>\n",
       "      <th>Nama_toko</th>\n",
       "    </tr>\n",
       "  </thead>\n",
       "  <tbody>\n",
       "    <tr>\n",
       "      <th>0</th>\n",
       "      <td>Taufik Hidayat</td>\n",
       "      <td>10000000</td>\n",
       "      <td>POS</td>\n",
       "      <td>23/01/2023</td>\n",
       "      <td>2023-01-24</td>\n",
       "      <td>26/01/2023</td>\n",
       "      <td>delivered</td>\n",
       "      <td>Nusantara Mart</td>\n",
       "    </tr>\n",
       "    <tr>\n",
       "      <th>1</th>\n",
       "      <td>Siti Nurhaliza</td>\n",
       "      <td>10000001</td>\n",
       "      <td>JNE</td>\n",
       "      <td>17/12/2023</td>\n",
       "      <td>2023-12-18</td>\n",
       "      <td>22/12/2023</td>\n",
       "      <td>delivered</td>\n",
       "      <td>Cahaya Elektronik</td>\n",
       "    </tr>\n",
       "    <tr>\n",
       "      <th>2</th>\n",
       "      <td>Putri Amelia</td>\n",
       "      <td>10000002</td>\n",
       "      <td>JNT</td>\n",
       "      <td>10/09/2023</td>\n",
       "      <td>2023-11-09</td>\n",
       "      <td>12/09/2023</td>\n",
       "      <td>delivered</td>\n",
       "      <td>Karya Mandiri</td>\n",
       "    </tr>\n",
       "    <tr>\n",
       "      <th>3</th>\n",
       "      <td>Siti Nurhaliza</td>\n",
       "      <td>10000003</td>\n",
       "      <td>Sicepat</td>\n",
       "      <td>18/04/2023</td>\n",
       "      <td>2023-04-21</td>\n",
       "      <td>25/04/2023</td>\n",
       "      <td>delivered</td>\n",
       "      <td>Bintang Terang Shop</td>\n",
       "    </tr>\n",
       "    <tr>\n",
       "      <th>4</th>\n",
       "      <td>Novita Sari</td>\n",
       "      <td>10000004</td>\n",
       "      <td>JNT</td>\n",
       "      <td>22/04/2023</td>\n",
       "      <td>2023-04-25</td>\n",
       "      <td>26/04/2023</td>\n",
       "      <td>delivered</td>\n",
       "      <td>Sinar Harapan</td>\n",
       "    </tr>\n",
       "  </tbody>\n",
       "</table>\n",
       "</div>"
      ],
      "text/plain": [
       "    Nama_penerima      Resi Nama_ekspedisi Tanggal_order Tanggal_pickup  \\\n",
       "0  Taufik Hidayat  10000000            POS    23/01/2023     2023-01-24   \n",
       "1  Siti Nurhaliza  10000001            JNE    17/12/2023     2023-12-18   \n",
       "2    Putri Amelia  10000002            JNT    10/09/2023     2023-11-09   \n",
       "3  Siti Nurhaliza  10000003        Sicepat    18/04/2023     2023-04-21   \n",
       "4     Novita Sari  10000004            JNT    22/04/2023     2023-04-25   \n",
       "\n",
       "  Tanggal_delivered     Status            Nama_toko  \n",
       "0        26/01/2023  delivered       Nusantara Mart  \n",
       "1        22/12/2023  delivered    Cahaya Elektronik  \n",
       "2        12/09/2023  delivered        Karya Mandiri  \n",
       "3        25/04/2023  delivered  Bintang Terang Shop  \n",
       "4        26/04/2023  delivered        Sinar Harapan  "
      ]
     },
     "execution_count": 160,
     "metadata": {},
     "output_type": "execute_result"
    }
   ],
   "source": [
    "df.head()"
   ]
  },
  {
   "cell_type": "code",
   "execution_count": 167,
   "id": "7509c22f",
   "metadata": {},
   "outputs": [
    {
     "name": "stdout",
     "output_type": "stream",
     "text": [
      "Nama_toko\n",
      "Berkah Jaya Store      54\n",
      "Bintang Terang Shop    44\n",
      "Cahaya Elektronik      41\n",
      "Duta Niaga             48\n",
      "Garuda Perkasa         45\n",
      "Karya Mandiri          43\n",
      "Maju Makmur            41\n",
      "Nusantara Mart         36\n",
      "Pelangi Fashion        54\n",
      "Sentosa Cell           49\n",
      "Sinar Harapan          45\n",
      "Name: Nama_ekspedisi, dtype: int64\n"
     ]
    }
   ],
   "source": [
    "pd.set_option(\"display.max.rows\", None)\n",
    "# data = {\n",
    "#     \"Nama_toko\": [\"A\", \"A\", \"B\", \"B\", \"C\"],\n",
    "#     \"Kota\": [\"Jakarta\", \"Jakarta\", \"Bandung\", \"Bandung\", \"Surabaya\"],\n",
    "#     \"Pendapatan\": [10000, 15000, 20000, 12000, 18000]\n",
    "# }\n",
    "# dfk = pd.DataFrame(data)\n",
    "# print(df)\n",
    "\n",
    "# df_grouped = dfk.groupby(\"Nama_toko\")[\"Pendapatan\"].sum()\n",
    "\n",
    "group_seller = df.groupby(\"Nama_toko\")[\"Nama_ekspedisi\"].count()\n",
    "print(group_seller)"
   ]
  },
  {
   "cell_type": "code",
   "execution_count": 171,
   "id": "ce82ec4b",
   "metadata": {},
   "outputs": [
    {
     "name": "stdout",
     "output_type": "stream",
     "text": [
      "Status               delivered  return\n",
      "Nama_toko                             \n",
      "Berkah Jaya Store           49       5\n",
      "Bintang Terang Shop         36       8\n",
      "Cahaya Elektronik           34       7\n",
      "Duta Niaga                  44       4\n",
      "Garuda Perkasa              34      11\n",
      "Karya Mandiri               37       6\n",
      "Maju Makmur                 35       6\n",
      "Nusantara Mart              27       9\n",
      "Pelangi Fashion             48       6\n",
      "Sentosa Cell                40       9\n",
      "Sinar Harapan               39       6\n"
     ]
    }
   ],
   "source": [
    "pivot = pd.pivot_table(\n",
    "    df,\n",
    "    values=\"Status\",\n",
    "    index=\"Nama_toko\",\n",
    "    columns=\"Nama_ekspedisi\",\n",
    "    aggfunc=\"count\",\n",
    ")\n",
    "\n",
    "KPI = pd.pivot_table(\n",
    "    df,\n",
    "    values=\"Nama_ekspedisi\",\n",
    "    index=\"Nama_toko\",\n",
    "    columns=\"Status\",\n",
    "    aggfunc=\"count\",   \n",
    ")\n",
    "\n",
    "print(KPI)"
   ]
  },
  {
   "cell_type": "markdown",
   "id": "b0850dc3",
   "metadata": {},
   "source": [
    "## Merging, Joining, Concatenation Methods"
   ]
  },
  {
   "cell_type": "code",
   "execution_count": 174,
   "id": "4260437d",
   "metadata": {},
   "outputs": [
    {
     "name": "stdout",
     "output_type": "stream",
     "text": [
      "   Id  Nama  Umur\n",
      "0   1  Aldi    20\n",
      "1   2  Budi    25\n",
      "   Id   Nama  Umur\n",
      "0   1   Aldi  20.0\n",
      "1   2   Budi  25.0\n",
      "2   3  Citra   NaN\n"
     ]
    }
   ],
   "source": [
    "df1 = pd.DataFrame({\n",
    "    \"Id\": [1, 2, 3],\n",
    "    \"Nama\": [\"Aldi\", \"Budi\", \"Citra\"]\n",
    "})\n",
    "\n",
    "df2 = pd.DataFrame({\n",
    "    \"Id\": [1, 2, 4],\n",
    "    \"Umur\": [20, 25, 30]\n",
    "})\n",
    "\n",
    "\n",
    "print(df1.merge(df2, on=\"Id\", how=\"inner\"))\n",
    "print(df1.merge(df2, on=\"Id\", how=\"left\"))"
   ]
  },
  {
   "cell_type": "markdown",
   "id": "e6148d3d",
   "metadata": {},
   "source": [
    "## Sorting & Ranking Methods"
   ]
  },
  {
   "cell_type": "markdown",
   "id": "0eec220b",
   "metadata": {},
   "source": [
    "* Mengurutkan data dari harga terbesar ke terkecil."
   ]
  },
  {
   "cell_type": "code",
   "execution_count": 177,
   "id": "ee38543c",
   "metadata": {},
   "outputs": [
    {
     "data": {
      "text/html": [
       "<div>\n",
       "<style scoped>\n",
       "    .dataframe tbody tr th:only-of-type {\n",
       "        vertical-align: middle;\n",
       "    }\n",
       "\n",
       "    .dataframe tbody tr th {\n",
       "        vertical-align: top;\n",
       "    }\n",
       "\n",
       "    .dataframe thead th {\n",
       "        text-align: right;\n",
       "    }\n",
       "</style>\n",
       "<table border=\"1\" class=\"dataframe\">\n",
       "  <thead>\n",
       "    <tr style=\"text-align: right;\">\n",
       "      <th></th>\n",
       "      <th>Nama_toko</th>\n",
       "      <th>Harga</th>\n",
       "    </tr>\n",
       "  </thead>\n",
       "  <tbody>\n",
       "    <tr>\n",
       "      <th>2</th>\n",
       "      <td>C</td>\n",
       "      <td>15000</td>\n",
       "    </tr>\n",
       "    <tr>\n",
       "      <th>1</th>\n",
       "      <td>B</td>\n",
       "      <td>20000</td>\n",
       "    </tr>\n",
       "    <tr>\n",
       "      <th>0</th>\n",
       "      <td>A</td>\n",
       "      <td>100000</td>\n",
       "    </tr>\n",
       "  </tbody>\n",
       "</table>\n",
       "</div>"
      ],
      "text/plain": [
       "  Nama_toko   Harga\n",
       "2         C   15000\n",
       "1         B   20000\n",
       "0         A  100000"
      ]
     },
     "execution_count": 177,
     "metadata": {},
     "output_type": "execute_result"
    }
   ],
   "source": [
    "harga = pd.DataFrame({\n",
    "    \"Nama_toko\": [\"A\", \"B\", \"C\"],\n",
    "    \"Harga\": [100000, 20000, 15000]\n",
    "})\n",
    "\n",
    "harga.sort_values(by =\"Harga\", ascending=True)"
   ]
  }
 ],
 "metadata": {
  "kernelspec": {
   "display_name": "Python 3",
   "language": "python",
   "name": "python3"
  },
  "language_info": {
   "codemirror_mode": {
    "name": "ipython",
    "version": 3
   },
   "file_extension": ".py",
   "mimetype": "text/x-python",
   "name": "python",
   "nbconvert_exporter": "python",
   "pygments_lexer": "ipython3",
   "version": "3.13.5"
  }
 },
 "nbformat": 4,
 "nbformat_minor": 5
}
