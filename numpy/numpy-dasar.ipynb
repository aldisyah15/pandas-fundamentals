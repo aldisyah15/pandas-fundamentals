{
 "cells": [
  {
   "cell_type": "code",
   "execution_count": 1,
   "id": "dbf2ed2a",
   "metadata": {},
   "outputs": [],
   "source": [
    "import numpy as np"
   ]
  },
  {
   "cell_type": "markdown",
   "id": "3e2c74e9",
   "metadata": {},
   "source": [
    "## Membuat Array\n"
   ]
  },
  {
   "cell_type": "markdown",
   "id": "7dc862ba",
   "metadata": {},
   "source": [
    "* array"
   ]
  },
  {
   "cell_type": "code",
   "execution_count": 4,
   "id": "0d4d3c39",
   "metadata": {},
   "outputs": [
    {
     "name": "stdout",
     "output_type": "stream",
     "text": [
      "[2 4 6 8]\n",
      "[1, 2, 3, 4, 1, 2, 3, 4]\n"
     ]
    }
   ],
   "source": [
    "arr = np.array([1,2,3,4])\n",
    "arrr = [1,2,3,4]\n",
    "\n",
    "print(arr * 2)\n",
    "print(arrr * 2)"
   ]
  },
  {
   "cell_type": "markdown",
   "id": "6d74818a",
   "metadata": {},
   "source": [
    "* np.zeros(), np.ones(), np.full() \n",
    "* digunakan untuk mengisi nilai default"
   ]
  },
  {
   "cell_type": "code",
   "execution_count": 17,
   "id": "e7d4d5c5",
   "metadata": {},
   "outputs": [
    {
     "name": "stdout",
     "output_type": "stream",
     "text": [
      "Membuat array berisi nol [0. 0. 0. 0. 0.]\n",
      " membuat array berisi default 1 [[1. 1. 1. 1.]\n",
      " [1. 1. 1. 1.]]\n",
      "[[9 9 9]\n",
      " [9 9 9]\n",
      " [9 9 9]]\n"
     ]
    }
   ],
   "source": [
    "# Membuat array berisi nol\n",
    "arr_zeros = np.zeros(5)\n",
    "print(f\"Membuat array berisi nol {arr_zeros}\")\n",
    "\n",
    "arr_ones = np.ones((2,4))\n",
    "print(f\" membuat array berisi default 1 {arr_ones}\")\n",
    "\n",
    "# memnuat array 2d berisi angka tertentu\n",
    "arr_full = np.full((3,3), 9)\n",
    "print(arr_full)"
   ]
  },
  {
   "cell_type": "markdown",
   "id": "fd7d08bd",
   "metadata": {},
   "source": [
    "* np.random.rand(), np.random.randint()"
   ]
  },
  {
   "cell_type": "code",
   "execution_count": null,
   "id": "9279bc6f",
   "metadata": {},
   "outputs": [
    {
     "name": "stdout",
     "output_type": "stream",
     "text": [
      "array random float [0.3132218  0.47363124 0.77152897]\n",
      "[2]\n"
     ]
    }
   ],
   "source": [
    "arr_rand = np.random.rand(3)\n",
    "print(f\"array random float {arr_rand}\")\n",
    "\n",
    "# Angka bulat random antara 1–10\n",
    "arr_randint = np.random.randint(1, 10, size=1)\n",
    "print(arr_randint) "
   ]
  },
  {
   "cell_type": "code",
   "execution_count": 29,
   "id": "4efcc364",
   "metadata": {},
   "outputs": [
    {
     "name": "stdout",
     "output_type": "stream",
     "text": [
      "[[[1 2 3]\n",
      "  [3 4 3]]\n",
      "\n",
      " [[5 6 3]\n",
      "  [7 8 3]]]\n"
     ]
    }
   ],
   "source": [
    "a = np.array([1,2,3])\n",
    "b = np.array([\n",
    "    [123], [123]\n",
    "])\n",
    "c = np.array([\n",
    "    [\n",
    "        [1,2,3],\n",
    "        [3,4,3]\n",
    "    ],\n",
    "    [\n",
    "        [5,6,3],\n",
    "        [7,8,3]\n",
    "    ]\n",
    "    ])  # 3D\n",
    "\n",
    "print(c)"
   ]
  },
  {
   "cell_type": "code",
   "execution_count": 30,
   "id": "100fd959",
   "metadata": {},
   "outputs": [
    {
     "name": "stdout",
     "output_type": "stream",
     "text": [
      "(2, 2, 3)\n"
     ]
    }
   ],
   "source": [
    "print(c.shape)"
   ]
  }
 ],
 "metadata": {
  "kernelspec": {
   "display_name": "Python 3",
   "language": "python",
   "name": "python3"
  },
  "language_info": {
   "codemirror_mode": {
    "name": "ipython",
    "version": 3
   },
   "file_extension": ".py",
   "mimetype": "text/x-python",
   "name": "python",
   "nbconvert_exporter": "python",
   "pygments_lexer": "ipython3",
   "version": "3.13.5"
  }
 },
 "nbformat": 4,
 "nbformat_minor": 5
}
